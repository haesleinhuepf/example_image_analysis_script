{
 "cells": [
  {
   "cell_type": "code",
   "execution_count": 1,
   "id": "16e8c498",
   "metadata": {},
   "outputs": [],
   "source": [
    "import numpy as np\n",
    "from skimage.io import imread\n",
    "from my_library import segment_image"
   ]
  },
  {
   "cell_type": "code",
   "execution_count": 2,
   "id": "6e99da0a",
   "metadata": {},
   "outputs": [],
   "source": [
    "# load image\n",
    "image = imread('blobs.tif')"
   ]
  },
  {
   "cell_type": "code",
   "execution_count": 3,
   "id": "537d67e2",
   "metadata": {},
   "outputs": [],
   "source": [
    "# segment image\n",
    "labels = segment_image(image)"
   ]
  },
  {
   "cell_type": "code",
   "execution_count": 4,
   "id": "021b38d4",
   "metadata": {},
   "outputs": [
    {
     "name": "stdout",
     "output_type": "stream",
     "text": [
      "Number of objects 61\n"
     ]
    }
   ],
   "source": [
    "# count objects\n",
    "number_of_objects = labels.max()\n",
    "print('Number of objects', number_of_objects)"
   ]
  },
  {
   "cell_type": "code",
   "execution_count": null,
   "id": "e03aa6ef",
   "metadata": {},
   "outputs": [],
   "source": []
  }
 ],
 "metadata": {
  "kernelspec": {
   "display_name": "Python 3 (ipykernel)",
   "language": "python",
   "name": "python3"
  },
  "language_info": {
   "codemirror_mode": {
    "name": "ipython",
    "version": 3
   },
   "file_extension": ".py",
   "mimetype": "text/x-python",
   "name": "python",
   "nbconvert_exporter": "python",
   "pygments_lexer": "ipython3",
   "version": "3.8.5"
  }
 },
 "nbformat": 4,
 "nbformat_minor": 5
}
